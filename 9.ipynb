{
 "cells": [
  {
   "cell_type": "code",
   "execution_count": 5,
   "metadata": {
    "collapsed": false
   },
   "outputs": [
    {
     "name": "stdout",
     "output_type": "stream",
     "text": [
      "best params: {'C': 10000, 'tol': 0.0001}\n",
      "-0.033 (+/-0.022) for {'C': 100, 'tol': 0.001}\n",
      "[-0.03890676 -0.06810568 -0.00726642 -0.03960359 -0.03890152 -0.03990723\n",
      " -0.06514724 -0.01044165 -0.00688661 -0.0130237 ]\n",
      "-0.033 (+/-0.022) for {'C': 100, 'tol': 0.0001}\n",
      "[-0.03878382 -0.0696209  -0.00719814 -0.03988442 -0.03934758 -0.04012912\n",
      " -0.06514724 -0.01052128 -0.00653116 -0.01296899]\n",
      "-0.033 (+/-0.022) for {'C': 100, 'tol': 1e-05}\n",
      "[-0.03878382 -0.0696209  -0.00719814 -0.03988442 -0.03934758 -0.04012912\n",
      " -0.06514724 -0.01052128 -0.00653116 -0.01296899]\n",
      "-0.029 (+/-0.022) for {'C': 500, 'tol': 0.001}\n",
      "[-0.0423761  -0.06162847 -0.00364373 -0.02864003 -0.03966322 -0.0325184\n",
      " -0.06695879 -0.00663288 -0.00419572 -0.00789675]\n",
      "-0.030 (+/-0.023) for {'C': 500, 'tol': 0.0001}\n",
      "[-0.03827506 -0.0651127  -0.00382025 -0.03376723 -0.03902954 -0.03549898\n",
      " -0.06821205 -0.00634474 -0.00367696 -0.00766159]\n",
      "-0.030 (+/-0.023) for {'C': 500, 'tol': 1e-05}\n",
      "[-0.03827506 -0.0651127  -0.00382025 -0.03376723 -0.03902954 -0.03549898\n",
      " -0.06821205 -0.00634474 -0.00367696 -0.00766159]\n",
      "-0.029 (+/-0.023) for {'C': 1000, 'tol': 0.001}\n",
      "[-0.03904847 -0.06089266 -0.00282754 -0.02708707 -0.03976042 -0.03644604\n",
      " -0.06663324 -0.00512023 -0.0036836  -0.00662026]\n",
      "-0.030 (+/-0.024) for {'C': 1000, 'tol': 0.0001}\n",
      "[-0.04096061 -0.06354566 -0.00294646 -0.03107749 -0.04061541 -0.03331673\n",
      " -0.07053411 -0.00518904 -0.00310109 -0.00608155]\n",
      "-0.030 (+/-0.024) for {'C': 1000, 'tol': 1e-05}\n",
      "[-0.04096061 -0.06354566 -0.00294646 -0.03107749 -0.04061541 -0.03331673\n",
      " -0.07053411 -0.00518904 -0.00310109 -0.00608155]\n",
      "-0.042 (+/-0.050) for {'C': 10000, 'tol': 0.001}\n",
      "[-0.02329258 -0.17288798 -0.00306876 -0.02672519 -0.05704968 -0.05891151\n",
      " -0.06544493 -0.00469447 -0.00246341 -0.00420412]\n",
      "-0.028 (+/-0.025) for {'C': 10000, 'tol': 0.0001}\n",
      "[-0.0430356  -0.05661787 -0.00121053 -0.02399276 -0.04546601 -0.02840031\n",
      " -0.0731844  -0.00358422 -0.00185824 -0.00317879]\n",
      "-0.029 (+/-0.025) for {'C': 10000, 'tol': 1e-05}\n",
      "[-0.04377139 -0.05923124 -0.00142691 -0.02566712 -0.04222206 -0.03021184\n",
      " -0.0747043  -0.00345852 -0.00184943 -0.0030973 ]\n"
     ]
    }
   ],
   "source": [
    "import pandas as pd\n",
    "import numpy as np\n",
    "from sklearn.linear_model import LogisticRegression\n",
    "from sklearn.grid_search import GridSearchCV\n",
    "from sklearn.preprocessing import LabelEncoder\n",
    "from sklearn.preprocessing import StandardScaler\n",
    "\n",
    "\n",
    "np.random.seed(42)\n",
    "\n",
    "train = pd.read_csv('train.csv')\n",
    "x_train = train.drop(['id', 'species'], axis=1).values\n",
    "le = LabelEncoder().fit(train['species'])\n",
    "y_train = le.transform(train['species'])\n",
    "\n",
    "scaler = StandardScaler().fit(x_train)\n",
    "x_train = scaler.transform(x_train)\n",
    "\n",
    "params = {'C':[100,500, 1000, 10000], 'tol': [0.001, 0.0001,0.00001]}\n",
    "log_reg = LogisticRegression(solver='lbfgs', multi_class='multinomial')\n",
    "clf = GridSearchCV(log_reg, params, scoring='log_loss', refit='True', n_jobs=-1, cv=10)\n",
    "clf.fit(x_train, y_train)\n",
    "\n",
    "print(\"best params: \" + str(clf.best_params_))\n",
    "for params, mean_score, scores in clf.grid_scores_:\n",
    "  print(\"%0.3f (+/-%0.03f) for %r\" % (mean_score, scores.std(), params))\n",
    "  print(scores)\n",
    "\n",
    "test = pd.read_csv('test.csv')\n",
    "test_ids = test.pop('id')\n",
    "x_test = test.values\n",
    "x_test = scaler.transform(x_test)\n",
    "\n",
    "y_test = clf.predict_proba(x_test)\n",
    "\n",
    "submission = pd.DataFrame(y_test, index=test_ids, columns=le.classes_)\n",
    "submission.to_csv('submission10.csv')"
   ]
  },
  {
   "cell_type": "code",
   "execution_count": null,
   "metadata": {
    "collapsed": true
   },
   "outputs": [],
   "source": []
  }
 ],
 "metadata": {
  "kernelspec": {
   "display_name": "Python [Root]",
   "language": "python",
   "name": "Python [Root]"
  },
  "language_info": {
   "codemirror_mode": {
    "name": "ipython",
    "version": 2
   },
   "file_extension": ".py",
   "mimetype": "text/x-python",
   "name": "python",
   "nbconvert_exporter": "python",
   "pygments_lexer": "ipython2",
   "version": "2.7.12"
  }
 },
 "nbformat": 4,
 "nbformat_minor": 0
}
